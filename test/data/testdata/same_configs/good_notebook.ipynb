{
 "cells": [],
 "metadata": {
  "kernelspec": {
   "display_name": "Python 3 (ipykernel)",
   "language": "python",
   "name": "python3"
  },
  "language_info": {
   "codemirror_mode": {
    "name": "ipython",
    "version": 3
   },
   "file_extension": ".py",
   "mimetype": "text/x-python",
   "name": "python",
   "nbconvert_exporter": "python",
   "pygments_lexer": "ipython3",
   "version": "3.9.6"
  },
  "same_config": {
    "apiVersion": "sameproject.ml/v1alpha1",
    "environments": {
      "default": {
        "image_tag": "combinatorml/jupyterlab-tensorflow-opencv:0.9"
      }
    },
    "metadata": {
      "labels": [],
      "name": "NotebookConfig",
      "version": "0.0.0"
    },
    "datasets": {
      "USER_HISTORY": {
        "schema_uri": "http://schemas.contoso.org/user_schema",
        "environments": {
          "default": "user_history.csv",
          "STAGING": "s3://contoso_test_DS/reco/202101211344/user_data.parquet",
          "PROD": "s3://contoso_DS/reco/202101250655/user_data.parquet"
        }
      }
    },
    "notebook": {
      "requirements": "requirements.txt"
    },
    "run": {
      "name": "Sample Complicated Notebook - Run",
      "sha": "24a95219b3fce8402561d6b713bb435d6d5d51f2132d3c32703df8562db5b718",
      "parameters": {
        "sample_parameter": 0.841,
        "sample_complicated_parameter": {
          "field_int": 44,
          "field_string": "Various Values",
          "field_dict": {
            "sub_field_1": 1,
            "sub_field_2": 2
          },
          "field_list": [
            "first",
            "second",
            "third"
          ]
        }
      }
    }
  }
 },
 "nbformat": 4,
 "nbformat_minor": 5
}