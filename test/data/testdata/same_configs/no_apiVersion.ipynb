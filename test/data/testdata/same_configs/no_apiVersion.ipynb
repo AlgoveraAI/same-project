{
 "cells": [
  {
   "cell_type": "raw",
   "source": [],
   "metadata": {
    "collapsed": false,
    "pycharm": {
     "name": ""
    }
   }
  }
 ],
 "metadata": {
  "kernelspec": {
   "display_name": "Python 3 (ipykernel)",
   "language": "python",
   "name": "python3"
  },
  "language_info": {
   "codemirror_mode": {
    "name": "ipython",
    "version": 3
   },
   "file_extension": ".py",
   "mimetype": "text/x-python",
   "name": "python",
   "nbconvert_exporter": "python",
   "pygments_lexer": "ipython3",
   "version": "3.9.6"
  },
  "same_config": {
   "environments": {
    "default": {
     "image_tag": "combinatorml/jupyterlab-tensorflow-opencv:0.9"
    }
   },
   "metadata": {
    "labels": [],
    "name": "same_pipeline",
    "version": "0.0.0"
   },
   "notebook": {
    "requirements": "requirements.txt"
   }
  }
 },
 "nbformat": 4,
 "nbformat_minor": 5
}